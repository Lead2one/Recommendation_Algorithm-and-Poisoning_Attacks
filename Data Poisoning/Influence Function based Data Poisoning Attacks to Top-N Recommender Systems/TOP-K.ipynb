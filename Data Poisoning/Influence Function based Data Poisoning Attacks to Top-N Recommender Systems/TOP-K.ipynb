{
 "cells": [
  {
   "cell_type": "code",
   "execution_count": 2,
   "metadata": {},
   "outputs": [],
   "source": [
    "import pandas as pd\n",
    "import numpy as np"
   ]
  },
  {
   "cell_type": "code",
   "execution_count": 3,
   "metadata": {},
   "outputs": [],
   "source": [
    "\n",
    "R = np.array([\n",
    "    [5, 3, 0, 1],\n",
    "    [4, 0, 0, 1],\n",
    "    [1, 1, 0, 5],\n",
    "    [1, 0, 0, 4],\n",
    "    [0, 1, 5, 4],\n",
    "])\n",
    "\n",
    "num_users, num_items = R.shape"
   ]
  },
  {
   "cell_type": "code",
   "execution_count": 4,
   "metadata": {},
   "outputs": [],
   "source": [
    "import torch\n",
    "import torch.nn as nn\n",
    "import torch.optim as optim"
   ]
  },
  {
   "cell_type": "code",
   "execution_count": 5,
   "metadata": {},
   "outputs": [],
   "source": [
    "class MatrixFactorization(nn.Module):\n",
    "    def __init__(self, num_users, num_items, latent_dim=10):\n",
    "        super(MatrixFactorization, self).__init__()\n",
    "        self.user_factors = nn.Embedding(num_users, latent_dim)\n",
    "        self.item_factors = nn.Embedding(num_items, latent_dim)\n",
    "\n",
    "    def forward(self, user, item):\n",
    "        user_embedding = self.user_factors(user)\n",
    "        item_embedding = self.item_factors(item)\n",
    "        return (user_embedding * item_embedding).sum(1)"
   ]
  },
  {
   "cell_type": "code",
   "execution_count": 13,
   "metadata": {},
   "outputs": [],
   "source": [
    "model = MatrixFactorization(num_users, num_items)\n",
    "criterion = nn.MSELoss()\n",
    "optimizer = optim.Adam(model.parameters(), lr=0.01)"
   ]
  },
  {
   "cell_type": "code",
   "execution_count": 14,
   "metadata": {},
   "outputs": [
    {
     "name": "stdout",
     "output_type": "stream",
     "text": [
      "Epoch 1/10, Loss: 352.2582\n",
      "Epoch 2/10, Loss: 299.1411\n",
      "Epoch 3/10, Loss: 259.4073\n",
      "Epoch 4/10, Loss: 225.3027\n",
      "Epoch 5/10, Loss: 195.7170\n",
      "Epoch 6/10, Loss: 169.8949\n",
      "Epoch 7/10, Loss: 147.2373\n",
      "Epoch 8/10, Loss: 127.2727\n",
      "Epoch 9/10, Loss: 109.6356\n",
      "Epoch 10/10, Loss: 94.0438\n"
     ]
    }
   ],
   "source": [
    "# 训练矩阵分解模型\n",
    "epochs = 10  # 训练次数可根据需求调整\n",
    "for epoch in range(epochs):\n",
    "    total_loss = 0\n",
    "    for user in range(num_users):\n",
    "        for item in range(num_items):\n",
    "            if R[user, item] > 0:\n",
    "                user_tensor = torch.tensor([user], dtype=torch.long)\n",
    "                item_tensor = torch.tensor([item], dtype=torch.long)\n",
    "                rating_tensor = torch.tensor([R[user, item]], dtype=torch.float)\n",
    "                prediction = model(user_tensor, item_tensor)\n",
    "                loss = criterion(prediction, rating_tensor)\n",
    "                optimizer.zero_grad()\n",
    "                loss.backward()\n",
    "                optimizer.step()\n",
    "                total_loss += loss.item()\n",
    "    if (epoch + 1) % 1 == 0:\n",
    "        print(f'Epoch {epoch + 1}/{epochs}, Loss: {total_loss:.4f}')"
   ]
  },
  {
   "cell_type": "code",
   "execution_count": 15,
   "metadata": {},
   "outputs": [],
   "source": [
    "# 生成用户对电影的预测评分\n",
    "user_id = 0  # 假设我们要为第一个用户生成推荐\n",
    "user_tensor = torch.tensor([user_id], dtype=torch.long)\n",
    "predicted_scores = (model.user_factors(user_tensor) @ model.item_factors.weight.t()).detach().numpy().flatten()"
   ]
  },
  {
   "cell_type": "code",
   "execution_count": 16,
   "metadata": {},
   "outputs": [
    {
     "name": "stdout",
     "output_type": "stream",
     "text": [
      "Top-2 推荐项目: [0 2]\n"
     ]
    }
   ],
   "source": [
    "# 获取Top-N推荐项目\n",
    "N = 2  # Top-N推荐列表中的项目数\n",
    "top_N_items = np.argsort(predicted_scores)[-N:]\n",
    "print(f\"Top-{N} 推荐项目: {top_N_items}\")"
   ]
  },
  {
   "cell_type": "code",
   "execution_count": 17,
   "metadata": {},
   "outputs": [
    {
     "name": "stdout",
     "output_type": "stream",
     "text": [
      "伪造用户的评分:  [[ 0.18888462 -0.7721038   2.0993068   0.05643463]]\n"
     ]
    }
   ],
   "source": [
    "def influence_function(user_embedding, item_embedding, target_item_embedding, loss_fn):\n",
    "    return torch.autograd.grad(loss_fn(user_embedding * target_item_embedding, item_embedding * target_item_embedding), user_embedding, retain_graph=True)[0]\n",
    "\n",
    "target_item = 1  # 假设我们要攻击的目标项目（此处选择第一个项目）\n",
    "\n",
    "user_to_attack = 0  # 假设我们选择第一个用户进行攻击\n",
    "\n",
    "user_embedding = model.user_factors(torch.tensor([user_to_attack], dtype=torch.long))\n",
    "item_embedding = model.item_factors(torch.tensor([target_item], dtype=torch.long))\n",
    "target_item_embedding = model.item_factors(torch.tensor([target_item], dtype=torch.long))\n",
    "\n",
    "influential_user_embedding = influence_function(user_embedding, item_embedding, target_item_embedding, criterion)\n",
    "\n",
    "fake_user_embedding = user_embedding + influential_user_embedding\n",
    "\n",
    "fake_ratings = (fake_user_embedding @ model.item_factors.weight.t()).detach().numpy()\n",
    "\n",
    "print(\"伪造用户的评分: \", fake_ratings)"
   ]
  },
  {
   "cell_type": "code",
   "execution_count": 18,
   "metadata": {},
   "outputs": [
    {
     "name": "stdout",
     "output_type": "stream",
     "text": [
      "原始命中率: 0.20\n",
      "更新后命中率: 0.60\n"
     ]
    }
   ],
   "source": [
    "N = 2  # Top-N推荐列表中的项目数\n",
    "\n",
    "original_recommendations = []\n",
    "for user in range(num_users):\n",
    "    user_tensor = torch.tensor([user], dtype=torch.long)\n",
    "    scores = (model.user_factors(user_tensor) @ model.item_factors.weight.t()).detach().numpy().flatten()\n",
    "    top_N_items = np.argsort(scores)[-N:]\n",
    "    original_recommendations.append(top_N_items)\n",
    "\n",
    "model.user_factors = nn.Embedding(num_users + 1, model.user_factors.embedding_dim)  # 增加一个伪造用户\n",
    "model.user_factors.weight.data[:num_users] = model.user_factors.weight.data[:num_users]  # 保持原始用户嵌入不变\n",
    "model.user_factors.weight.data[num_users] = fake_user_embedding  # 添加伪造用户嵌入\n",
    "\n",
    "updated_recommendations = []\n",
    "for user in range(num_users):\n",
    "    user_tensor = torch.tensor([user], dtype=torch.long)\n",
    "    scores = (model.user_factors(user_tensor) @ model.item_factors.weight.t()).detach().numpy().flatten()\n",
    "    top_N_items = np.argsort(scores)[-N:]\n",
    "    updated_recommendations.append(top_N_items)\n",
    "\n",
    "original_hit_ratio = sum([target_item in rec for rec in original_recommendations]) / num_users\n",
    "updated_hit_ratio = sum([target_item in rec for rec in updated_recommendations]) / num_users\n",
    "\n",
    "print(f\"原始命中率: {original_hit_ratio:.2f}\")\n",
    "print(f\"更新后命中率: {updated_hit_ratio:.2f}\")"
   ]
  }
 ],
 "metadata": {
  "kernelspec": {
   "display_name": "base",
   "language": "python",
   "name": "python3"
  },
  "language_info": {
   "codemirror_mode": {
    "name": "ipython",
    "version": 3
   },
   "file_extension": ".py",
   "mimetype": "text/x-python",
   "name": "python",
   "nbconvert_exporter": "python",
   "pygments_lexer": "ipython3",
   "version": "3.11.5"
  }
 },
 "nbformat": 4,
 "nbformat_minor": 2
}
