{
 "cells": [
  {
   "cell_type": "code",
   "execution_count": 1,
   "metadata": {},
   "outputs": [],
   "source": [
    "import numpy as np\n",
    "import pandas as pd\n",
    "\n",
    "from sklearn.preprocessing import MinMaxScaler, LabelEncoder\n",
    "from sklearn.model_selection import train_test_split"
   ]
  },
  {
   "cell_type": "code",
   "execution_count": 3,
   "metadata": {},
   "outputs": [],
   "source": [
    "def sparseFeature(feat, feat_num, embed_dim=4):\n",
    "    \"\"\"\n",
    "    create dictionary for sparse feature\n",
    "    :param feat: feature_name\n",
    "    :param feat_num: the total number of sparse features that do not repeat\n",
    "    :param embed_dim: embedding dimension\n",
    "    :return\n",
    "    \"\"\"\n",
    "    return {'feat': feat, 'feat_num': feat_num, 'embed_dim': embed_dim}\n",
    "\n",
    "def denseFeature(feat):\n",
    "    \"\"\"\n",
    "    create dictionary for dense feature\n",
    "    :param feat: dense feature name\n",
    "    : return\n",
    "    \"\"\"\n",
    "    return {'feat': feat}"
   ]
  },
  {
   "cell_type": "code",
   "execution_count": 10,
   "metadata": {},
   "outputs": [],
   "source": [
    "def create_cretio_data(embed_dim=8, test_size=0.2):\n",
    "    # import data\n",
    "    train_df = pd.read_csv('./data/train.csv')\n",
    "    test_df = pd.read_csv('./data/test.csv')\n",
    "    \n",
    "    # 进行数据合并\n",
    "    label = train_df['Label']\n",
    "    del train_df['Label']\n",
    "\n",
    "    data_df = pd.concat((train_df, test_df))\n",
    "    del data_df['Id']\n",
    "    \n",
    "    print(data_df.columns)\n",
    "    # 特征分开类别\n",
    "    sparse_feas = [col for col in data_df.columns if col[0] == 'C']\n",
    "    dense_feas = [col for col in data_df.columns if col[0] == 'I']\n",
    "    \n",
    "    # 填充缺失值\n",
    "    data_df[sparse_feas] = data_df[sparse_feas].fillna('-1')\n",
    "    data_df[dense_feas] = data_df[dense_feas].fillna(0)\n",
    "    \n",
    "    # 把特征列保存成字典, 方便类别特征的处理工作\n",
    "    feature_columns = [[denseFeature(feat) for feat in dense_feas]] + [[sparseFeature(feat, len(data_df[feat].unique()), embed_dim=embed_dim) for feat in sparse_feas]]\n",
    "    np.save('preprocessed_data/fea_col.npy', feature_columns)\n",
    "    \n",
    "    \n",
    "    # 数据预处理\n",
    "    # 进行编码  类别特征编码\n",
    "    for feat in sparse_feas:\n",
    "        le = LabelEncoder()\n",
    "        data_df[feat] = le.fit_transform(data_df[feat])\n",
    "    \n",
    "    # 数值特征归一化\n",
    "    mms = MinMaxScaler()\n",
    "    data_df[dense_feas] = mms.fit_transform(data_df[dense_feas])\n",
    "    \n",
    "    # 分开测试集和训练集\n",
    "    train = data_df[:train_df.shape[0]]\n",
    "    test = data_df[train_df.shape[0]:]\n",
    "\n",
    "    train['Label'] = label\n",
    "    \n",
    "    # 划分验证集\n",
    "    train_set, val_set = train_test_split(train, test_size = 0.2, random_state=2020)\n",
    "    \n",
    "    # 保存文件\n",
    "    train_set.reset_index(drop=True, inplace=True)\n",
    "    val_set.reset_index(drop=True, inplace=True)\n",
    "\n",
    "    train_set.to_csv('preprocessed_data/train_set.csv', index=0)\n",
    "    val_set.to_csv('preprocessed_data/val_set.csv', index=0)\n",
    "    test.to_csv('preprocessed_data/test_set.csv', index=0)"
   ]
  },
  {
   "cell_type": "code",
   "execution_count": 11,
   "metadata": {},
   "outputs": [
    {
     "name": "stdout",
     "output_type": "stream",
     "text": [
      "Index(['I1', 'I2', 'I3', 'I4', 'I5', 'I6', 'I7', 'I8', 'I9', 'I10', 'I11',\n",
      "       'I12', 'I13', 'C1', 'C2', 'C3', 'C4', 'C5', 'C6', 'C7', 'C8', 'C9',\n",
      "       'C10', 'C11', 'C12', 'C13', 'C14', 'C15', 'C16', 'C17', 'C18', 'C19',\n",
      "       'C20', 'C21', 'C22', 'C23', 'C24', 'C25', 'C26'],\n",
      "      dtype='object')\n"
     ]
    },
    {
     "ename": "ValueError",
     "evalue": "setting an array element with a sequence. The requested array has an inhomogeneous shape after 1 dimensions. The detected shape was (2,) + inhomogeneous part.",
     "output_type": "error",
     "traceback": [
      "\u001b[1;31m---------------------------------------------------------------------------\u001b[0m",
      "\u001b[1;31mValueError\u001b[0m                                Traceback (most recent call last)",
      "Cell \u001b[1;32mIn[11], line 1\u001b[0m\n\u001b[1;32m----> 1\u001b[0m \u001b[43mcreate_cretio_data\u001b[49m\u001b[43m(\u001b[49m\u001b[43m)\u001b[49m\n",
      "Cell \u001b[1;32mIn[10], line 24\u001b[0m, in \u001b[0;36mcreate_cretio_data\u001b[1;34m(embed_dim, test_size)\u001b[0m\n\u001b[0;32m     22\u001b[0m \u001b[38;5;66;03m# 把特征列保存成字典, 方便类别特征的处理工作\u001b[39;00m\n\u001b[0;32m     23\u001b[0m feature_columns \u001b[38;5;241m=\u001b[39m [[denseFeature(feat) \u001b[38;5;28;01mfor\u001b[39;00m feat \u001b[38;5;129;01min\u001b[39;00m dense_feas]] \u001b[38;5;241m+\u001b[39m [[sparseFeature(feat, \u001b[38;5;28mlen\u001b[39m(data_df[feat]\u001b[38;5;241m.\u001b[39munique()), embed_dim\u001b[38;5;241m=\u001b[39membed_dim) \u001b[38;5;28;01mfor\u001b[39;00m feat \u001b[38;5;129;01min\u001b[39;00m sparse_feas]]\n\u001b[1;32m---> 24\u001b[0m \u001b[43mnp\u001b[49m\u001b[38;5;241;43m.\u001b[39;49m\u001b[43msave\u001b[49m\u001b[43m(\u001b[49m\u001b[38;5;124;43m'\u001b[39;49m\u001b[38;5;124;43mpreprocessed_data/fea_col.npy\u001b[39;49m\u001b[38;5;124;43m'\u001b[39;49m\u001b[43m,\u001b[49m\u001b[43m \u001b[49m\u001b[43mfeature_columns\u001b[49m\u001b[43m)\u001b[49m\n\u001b[0;32m     27\u001b[0m \u001b[38;5;66;03m# 数据预处理\u001b[39;00m\n\u001b[0;32m     28\u001b[0m \u001b[38;5;66;03m# 进行编码  类别特征编码\u001b[39;00m\n\u001b[0;32m     29\u001b[0m \u001b[38;5;28;01mfor\u001b[39;00m feat \u001b[38;5;129;01min\u001b[39;00m sparse_feas:\n",
      "File \u001b[1;32m<__array_function__ internals>:200\u001b[0m, in \u001b[0;36msave\u001b[1;34m(*args, **kwargs)\u001b[0m\n",
      "File \u001b[1;32md:\\anaconda3\\envs\\pytorch\\Lib\\site-packages\\numpy\\lib\\npyio.py:521\u001b[0m, in \u001b[0;36msave\u001b[1;34m(file, arr, allow_pickle, fix_imports)\u001b[0m\n\u001b[0;32m    518\u001b[0m     file_ctx \u001b[38;5;241m=\u001b[39m \u001b[38;5;28mopen\u001b[39m(file, \u001b[38;5;124m\"\u001b[39m\u001b[38;5;124mwb\u001b[39m\u001b[38;5;124m\"\u001b[39m)\n\u001b[0;32m    520\u001b[0m \u001b[38;5;28;01mwith\u001b[39;00m file_ctx \u001b[38;5;28;01mas\u001b[39;00m fid:\n\u001b[1;32m--> 521\u001b[0m     arr \u001b[38;5;241m=\u001b[39m \u001b[43mnp\u001b[49m\u001b[38;5;241;43m.\u001b[39;49m\u001b[43masanyarray\u001b[49m\u001b[43m(\u001b[49m\u001b[43marr\u001b[49m\u001b[43m)\u001b[49m\n\u001b[0;32m    522\u001b[0m     \u001b[38;5;28mformat\u001b[39m\u001b[38;5;241m.\u001b[39mwrite_array(fid, arr, allow_pickle\u001b[38;5;241m=\u001b[39mallow_pickle,\n\u001b[0;32m    523\u001b[0m                        pickle_kwargs\u001b[38;5;241m=\u001b[39m\u001b[38;5;28mdict\u001b[39m(fix_imports\u001b[38;5;241m=\u001b[39mfix_imports))\n",
      "\u001b[1;31mValueError\u001b[0m: setting an array element with a sequence. The requested array has an inhomogeneous shape after 1 dimensions. The detected shape was (2,) + inhomogeneous part."
     ]
    }
   ],
   "source": [
    "create_cretio_data()"
   ]
  }
 ],
 "metadata": {
  "kernelspec": {
   "display_name": "Python 3",
   "language": "python",
   "name": "python3"
  },
  "language_info": {
   "codemirror_mode": {
    "name": "ipython",
    "version": 3
   },
   "file_extension": ".py",
   "mimetype": "text/x-python",
   "name": "python",
   "nbconvert_exporter": "python",
   "pygments_lexer": "ipython3",
   "version": "3.11.8"
  }
 },
 "nbformat": 4,
 "nbformat_minor": 2
}
